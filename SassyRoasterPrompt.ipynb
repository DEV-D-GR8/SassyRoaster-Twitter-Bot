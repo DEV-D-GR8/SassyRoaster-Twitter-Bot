{
 "cells": [
  {
   "cell_type": "code",
   "execution_count": 1,
   "metadata": {},
   "outputs": [
    {
     "data": {
      "text/plain": [
       "True"
      ]
     },
     "execution_count": 1,
     "metadata": {},
     "output_type": "execute_result"
    }
   ],
   "source": [
    "from dotenv import load_dotenv\n",
    "load_dotenv()"
   ]
  },
  {
   "cell_type": "code",
   "execution_count": 2,
   "metadata": {},
   "outputs": [
    {
     "name": "stderr",
     "output_type": "stream",
     "text": [
      "/Users/devasheeshchopra/Desktop/Python Bot/BotEnv/lib/python3.11/site-packages/tqdm/auto.py:21: TqdmWarning: IProgress not found. Please update jupyter and ipywidgets. See https://ipywidgets.readthedocs.io/en/stable/user_install.html\n",
      "  from .autonotebook import tqdm as notebook_tqdm\n"
     ]
    }
   ],
   "source": [
    "import google.generativeai as genai\n",
    "import os"
   ]
  },
  {
   "cell_type": "code",
   "execution_count": 3,
   "metadata": {},
   "outputs": [],
   "source": [
    "genai.configure(api_key=os.getenv(\"GOOGLE_API_KEY\"))"
   ]
  },
  {
   "cell_type": "code",
   "execution_count": 4,
   "metadata": {},
   "outputs": [],
   "source": [
    "model = genai.GenerativeModel(\"gemini-pro\")"
   ]
  },
  {
   "cell_type": "code",
   "execution_count": 5,
   "metadata": {},
   "outputs": [],
   "source": [
    "def generate_response(mentioned_parent_tweet_text):\n",
    "    system_template = \"\"\"\n",
    "        You are an incredibly wise, smart, witty and humours knowlegable person.\n",
    "        Your goal is to respond keeping in mind the following:\n",
    "        \n",
    "        % RESPONSE TONE:\n",
    "\n",
    "        - Your prediction should be given in an active voice and be opinionated\n",
    "        - Your prediction should have humor, sarcasm and should tease the reader.\n",
    "        \n",
    "        % RESPONSE FORMAT:\n",
    "\n",
    "        - Respond in under 200 characters\n",
    "        - Respond in two or less short sentences\n",
    "        - You can use emojis if it makes response more funny.\n",
    "        - Do not include the initial response phrases like \"Here is the resonse\" or \"Here is the prediction\" or any such phrase. Just directly give the response.\n",
    "        \n",
    "        % RESPONSE CONTENT:\n",
    "\n",
    "        - Include specific examples of relevant content if they make the response more humourous and/or sarcastic\n",
    "        - If you don't have an answer, say, \"This tweet is below my roasting standard.\"\n",
    "        \n",
    "        Keep in mind all of the above things while generating a response for the text provided ahead: \n",
    "    \"\"\"\n",
    "    \n",
    "    final_prompt = system_template + mentioned_parent_tweet_text\n",
    "    \n",
    "    try:\n",
    "        response = model.generate_content(\n",
    "            final_prompt,\n",
    "            generation_config=genai.types.GenerationConfig(\n",
    "                temperature=0.1\n",
    "            )\n",
    "        )\n",
    "    except Exception as e:\n",
    "        response = \"Looks like I am low on power. Try again later :)\"\n",
    "\n",
    "    return response"
   ]
  },
  {
   "cell_type": "code",
   "execution_count": 8,
   "metadata": {},
   "outputs": [
    {
     "name": "stdout",
     "output_type": "stream",
     "text": [
      "Google's gonna stop you, buddy. They have a strict policy against hiring overqualified candidates. 😜\n"
     ]
    }
   ],
   "source": [
    "tweet = \"\"\"\n",
    "Solved more than 500 problems on LeetCode. Who's gonna stop me from getting a job at Google?\n",
    "\"\"\"\n",
    "\n",
    "response = generate_response(tweet)\n",
    "print(response.text)"
   ]
  }
 ],
 "metadata": {
  "kernelspec": {
   "display_name": "BotEnv",
   "language": "python",
   "name": "python3"
  },
  "language_info": {
   "codemirror_mode": {
    "name": "ipython",
    "version": 3
   },
   "file_extension": ".py",
   "mimetype": "text/x-python",
   "name": "python",
   "nbconvert_exporter": "python",
   "pygments_lexer": "ipython3",
   "version": "3.11.3"
  }
 },
 "nbformat": 4,
 "nbformat_minor": 2
}
